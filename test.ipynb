{
 "cells": [
  {
   "cell_type": "markdown",
   "id": "306c0037-7d6c-4be8-bf93-0eef0f80f206",
   "metadata": {},
   "source": [
    "## 1. Import Libs"
   ]
  },
  {
   "cell_type": "code",
   "execution_count": 1,
   "id": "694970f6-efdd-4860-849c-8147251a2746",
   "metadata": {},
   "outputs": [],
   "source": [
    "from tensorflow.keras.models import load_model\n",
    "import pickle\n",
    "import tensorflow as tf\n",
    "from tensorflow.keras.models import load_model\n",
    "from tensorflow.keras import Sequential\n",
    "from tensorflow.keras.preprocessing.text import Tokenizer\n",
    "from tensorflow.keras.preprocessing.sequence import pad_sequences\n",
    "from pyvi import ViTokenizer\n",
    "from pyvi import ViUtils\n",
    "from underthesea import word_tokenize"
   ]
  },
  {
   "cell_type": "markdown",
   "id": "f234c8b3-345b-473a-afc7-3cbeecfb160e",
   "metadata": {},
   "source": [
    "## 2. Preprocessing"
   ]
  },
  {
   "cell_type": "code",
   "execution_count": 2,
   "id": "dbab3907-5464-4914-9a86-c2606756f499",
   "metadata": {},
   "outputs": [],
   "source": [
    "def preprocess (input_text, tokenizer):\n",
    "    input_text_pre = list(tf.keras.preprocessing.text.text_to_word_sequence(input_text))\n",
    "    input_text_pre = \" \".join(input_text_pre)\n",
    "    input_text_pre_accent = ViTokenizer.tokenize(input_text_pre)\n",
    "    print(\"Input text: \", input_text)\n",
    "    # print(\"Processed text: \", input_text_pre_accent)\n",
    "    tokenized_data_text = tokenizer.texts_to_sequences([input_text_pre_accent])\n",
    "    vec_data = pad_sequences(tokenized_data_text, padding = 'post', maxlen = 200)\n",
    "    return vec_data\n"
   ]
  },
  {
   "cell_type": "markdown",
   "id": "b4167d56-669c-44c0-ad88-24846f5584ac",
   "metadata": {},
   "source": [
    "## 3. Prediction"
   ]
  },
  {
   "cell_type": "code",
   "execution_count": 3,
   "id": "018f828d-06e1-4aa0-b129-6d8c4339d1db",
   "metadata": {},
   "outputs": [],
   "source": [
    "def inference (input_text, model):\n",
    "    output = model(input_text).numpy()[0]\n",
    "    result = output.argmax()\n",
    "    conf = float(output.max())\n",
    "    label_dict = {'negative': -1, 'neutral': 0, 'positive': 1 }\n",
    "    label = list(label_dict.keys())\n",
    "    return label[int(result)], conf"
   ]
  },
  {
   "cell_type": "code",
   "execution_count": 4,
   "id": "a71781c3-089a-487a-a2f6-329d1ca61af8",
   "metadata": {},
   "outputs": [],
   "source": [
    "def prediction (input_text, tokenizer, model):\n",
    "    input_model = preprocess(input_text, tokenizer)\n",
    "    result, conf = inference(input_model, model)\n",
    "    print(\"Sentiment:\", result) \n",
    "    return result"
   ]
  },
  {
   "cell_type": "markdown",
   "id": "e725848e-04fe-4178-bc26-ab09d5e467fe",
   "metadata": {},
   "source": [
    "## 4. Result"
   ]
  },
  {
   "cell_type": "code",
   "execution_count": 9,
   "id": "e7ec4e4b-a775-4c19-ac2c-b6e6fdbc516a",
   "metadata": {},
   "outputs": [],
   "source": [
    "input_text = \"Tưởng rẻ, hóa ra là không phải vậy\""
   ]
  },
  {
   "cell_type": "code",
   "execution_count": 10,
   "id": "b94030a0-f4c1-4d29-b98b-1f2ca508be64",
   "metadata": {},
   "outputs": [
    {
     "name": "stdout",
     "output_type": "stream",
     "text": [
      "Input text:  Tưởng rẻ, hóa ra là không phải vậy\n",
      "Sentiment: positive\n"
     ]
    }
   ],
   "source": [
    "# model = model_LSTM_CNN()\n",
    "model = load_model('./model/model_lstm_cnn.h5')\n",
    "with open (\"tokenizer.pkl\", \"rb\") as input_file:\n",
    "    token = pickle.load(input_file)\n",
    "    prediction(input_text, token, model)"
   ]
  },
  {
   "cell_type": "code",
   "execution_count": null,
   "id": "b3c58ddb-1e75-455c-b95c-e2d6c9c1d53d",
   "metadata": {},
   "outputs": [],
   "source": []
  }
 ],
 "metadata": {
  "kernelspec": {
   "display_name": "Python 3 (ipykernel)",
   "language": "python",
   "name": "python3"
  },
  "language_info": {
   "codemirror_mode": {
    "name": "ipython",
    "version": 3
   },
   "file_extension": ".py",
   "mimetype": "text/x-python",
   "name": "python",
   "nbconvert_exporter": "python",
   "pygments_lexer": "ipython3",
   "version": "3.10.4"
  }
 },
 "nbformat": 4,
 "nbformat_minor": 5
}
